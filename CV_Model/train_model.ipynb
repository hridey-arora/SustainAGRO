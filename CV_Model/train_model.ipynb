# Train a simple CNN to classify Green vs Dried plants

import tensorflow as tf
from tensorflow.keras.models import Sequential
from tensorflow.keras.layers import Conv2D, MaxPooling2D, Flatten, Dense, Dropout
from tensorflow.keras.preprocessing.image import ImageDataGenerator

# Dataset paths (create dataset/green and dataset/dried folders with images)
train_dir = "dataset/train"
val_dir = "dataset/val"

# Data Augmentation
datagen = ImageDataGenerator(rescale=1./255)

train_gen = datagen.flow_from_directory(
    train_dir, target_size=(128,128), batch_size=32, class_mode="binary")

val_gen = datagen.flow_from_directory(
    val_dir, target_size=(128,128), batch_size=32, class_mode="binary")

# CNN Model
model = Sequential([
    Conv2D(32, (3,3), activation="relu", input_shape=(128,128,3)),
    MaxPooling2D(2,2),
    Conv2D(64, (3,3), activation="relu"),
    MaxPooling2D(2,2),
    Flatten(),
    Dense(128, activation="relu"),
    Dropout(0.5),
    Dense(1, activation="sigmoid")
])

model.compile(optimizer="adam", loss="binary_crossentropy", metrics=["accuracy"])

history = model.fit(train_gen, validation_data=val_gen, epochs=10)

model.save("model.h5")
print("Model saved as model.h5")
